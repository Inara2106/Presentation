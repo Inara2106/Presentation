{
  "metadata": {
    "kernelspec": {
      "name": "xeus-python",
      "display_name": "Python (XPython)",
      "language": "python"
    },
    "language_info": {
      "file_extension": ".py",
      "mimetype": "text/x-python",
      "name": "python",
      "version": "3.10.2"
    }
  },
  "nbformat_minor": 4,
  "nbformat": 4,
  "cells": [
    {
      "cell_type": "markdown",
      "source": "# 2. **My First Presentaition**\n",
      "metadata": {}
    },
    {
      "cell_type": "markdown",
      "source": "## 3. *I will discribe you about Data scince tools*",
      "metadata": {}
    },
    {
      "cell_type": "markdown",
      "source": "## 4. **Languages of Data Science**\n#### *The most popular languages are Phython, SQL and R*\n#### *Other languages such as Scala, Java, C++, and Julia with specific features are also popular. JavaScript, PHP, Go, Ruby, and Visual Basic all have their own unique use cases as well.*\n",
      "metadata": {}
    },
    {
      "cell_type": "markdown",
      "source": "## 5. **Libraries for Data Science.**\n### *9 best Python libraries for machine learning:*\n#### *1.Pandas*\n#### *2.NumPy*\n#### *3.Matplotlib package*\n#### *4.Seaborn*\n#### *5.The Scikit-learn*\n#### *6.Keras*\n#### *7.TensorFlow*\n#### *8.PyTorch*\n#### *9.SciPy*\n",
      "metadata": {}
    },
    {
      "cell_type": "markdown",
      "source": "## 6. **Data Science tools**",
      "metadata": {}
    },
    {
      "cell_type": "markdown",
      "source": "| Type | Tools |\n| -------------| ------ |\n| Programming languages | Phyton, R, SQL, Scala, Julia|\n| Machine Learning Libraries | Pandas, Keras, PyTorch< TensorFlow |\n| Deep learning platforms | TensorFlow, PyTorch, Keras |\n| Big Data Platforms | Apache Hadoop, Apache Spark, Apache Flink | \n| Notebook Products | Jupyter Notebook, Google Colab, Databricks |\n| Data Services for Data scince | Amazon web services, Google Cloud Platform, Microsoft Azure |\n",
      "metadata": {}
    },
    {
      "cell_type": "markdown",
      "source": "## 7. *Arithmetic expression examples*",
      "metadata": {}
    },
    {
      "cell_type": "code",
      "source": "3+2",
      "metadata": {
        "trusted": true
      },
      "outputs": [
        {
          "execution_count": 6,
          "output_type": "execute_result",
          "data": {
            "text/plain": "5"
          },
          "metadata": {}
        }
      ],
      "execution_count": 7
    },
    {
      "cell_type": "code",
      "source": "10 - 8",
      "metadata": {
        "trusted": true
      },
      "outputs": [
        {
          "execution_count": 7,
          "output_type": "execute_result",
          "data": {
            "text/plain": "2"
          },
          "metadata": {}
        }
      ],
      "execution_count": 8
    },
    {
      "cell_type": "markdown",
      "source": "## 8.*Code cell to multiply and add numbers.*",
      "metadata": {}
    },
    {
      "cell_type": "code",
      "source": "a=5\nb=7\na+b",
      "metadata": {
        "trusted": true
      },
      "outputs": [
        {
          "execution_count": 9,
          "output_type": "execute_result",
          "data": {
            "text/plain": "12"
          },
          "metadata": {}
        }
      ],
      "execution_count": 10
    },
    {
      "cell_type": "code",
      "source": "a=9\nb=12\na*b",
      "metadata": {
        "trusted": true
      },
      "outputs": [
        {
          "execution_count": 10,
          "output_type": "execute_result",
          "data": {
            "text/plain": "108"
          },
          "metadata": {}
        }
      ],
      "execution_count": 11
    },
    {
      "cell_type": "markdown",
      "source": "## 9. *A code cell to convert minutes to hours.*",
      "metadata": {}
    },
    {
      "cell_type": "code",
      "source": "total_minutes = 180\nhours = total_minutes // 60\nprint(hours)",
      "metadata": {
        "trusted": true
      },
      "outputs": [
        {
          "name": "stdout",
          "text": "3\n",
          "output_type": "stream"
        }
      ],
      "execution_count": 27
    },
    {
      "cell_type": "markdown",
      "source": "## 10. *Objectives*",
      "metadata": {}
    },
    {
      "cell_type": "markdown",
      "source": "### **The objective of the data scientist is to explore, sort and analyze megadata from various sources in order to take advantage of them and reach conclusions to optimize business processes or for decision support.**",
      "metadata": {}
    },
    {
      "cell_type": "markdown",
      "source": "## *Thank you for your attention, my name is Akhmadova Inara*",
      "metadata": {}
    },
    {
      "cell_type": "code",
      "source": "",
      "metadata": {
        "trusted": true
      },
      "outputs": [],
      "execution_count": null
    }
  ]
}